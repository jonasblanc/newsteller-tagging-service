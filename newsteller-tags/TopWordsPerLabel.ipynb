{
 "cells": [
  {
   "cell_type": "code",
   "execution_count": 2,
   "metadata": {},
   "outputs": [],
   "source": [
    "#from utils import dump_dataset\n",
    "import fasttext\n",
    "import pandas as pd\n",
    "import nltk\n",
    "#nltk.download('stopwords') # Added (requested by system)\n",
    "from nltk.corpus import stopwords\n",
    "from nltk.tokenize import word_tokenize \n",
    "\n",
    "from sklearn.model_selection import train_test_split\n",
    "\n",
    "import numpy as np\n",
    "\n",
    "stop_words = stopwords.words('french')"
   ]
  },
  {
   "cell_type": "code",
   "execution_count": 41,
   "metadata": {},
   "outputs": [
    {
     "name": "stderr",
     "output_type": "stream",
     "text": [
      "Warning : `load_model` does not return WordVectorModel or SupervisedModel any more, but a `FastText` object which is very similar.\n"
     ]
    }
   ],
   "source": [
    "from fasttext import load_model\n",
    "\n",
    "\n",
    "#model = load_model('model/categories.ftz')\n",
    "model = load_model(\"model/five_categories_1100_size_text.ftz\")"
   ]
  },
  {
   "cell_type": "code",
   "execution_count": 42,
   "metadata": {},
   "outputs": [
    {
     "name": "stdout",
     "output_type": "stream",
     "text": [
      "38983\n"
     ]
    }
   ],
   "source": [
    "words = model.words\n",
    "words_vector = []\n",
    "for word in words:\n",
    "    words_vector.append(model.get_word_vector(word))\n",
    "\n",
    "print(len(words))"
   ]
  },
  {
   "cell_type": "code",
   "execution_count": 43,
   "metadata": {},
   "outputs": [],
   "source": [
    "labels = model.labels\n",
    "labels_vector = model.get_output_matrix()"
   ]
  },
  {
   "cell_type": "code",
   "execution_count": 44,
   "metadata": {},
   "outputs": [],
   "source": [
    "similarity = np.dot(words_vector, labels_vector.T).T\n",
    "indexes = np.argsort(similarity)\n",
    "for idx in range(indexes.shape[0]):\n",
    "    indexes[idx] = indexes[idx][::-1]\n"
   ]
  },
  {
   "cell_type": "code",
   "execution_count": 45,
   "metadata": {},
   "outputs": [
    {
     "data": {
      "application/javascript": [
       "IPython.OutputArea.auto_scroll_threshold = 9999;\n"
      ],
      "text/plain": [
       "<IPython.core.display.Javascript object>"
      ]
     },
     "metadata": {},
     "output_type": "display_data"
    }
   ],
   "source": [
    "%%javascript\n",
    "IPython.OutputArea.auto_scroll_threshold = 9999;"
   ]
  },
  {
   "cell_type": "code",
   "execution_count": 46,
   "metadata": {},
   "outputs": [
    {
     "name": "stdout",
     "output_type": "stream",
     "text": [
      "__label__economie\n",
      " 407 - entreprises\n",
      " 300 - auto\n",
      " 284 - entreprise\n",
      " 266 - salariés\n",
      " 224 - économie\n",
      " 215 - secteur\n",
      " 214 - tourisme\n",
      " 199 - marque\n",
      " 189 - sncf\n",
      " 187 - marché\n",
      "__label__sante\n",
      " 419 - direct\n",
      " 333 - coronavirus\n",
      " 265 - pourquoi\n",
      " 211 - vaccin\n",
      " 181 - ehpad\n",
      " 178 - covid\n",
      " 163 - risque\n",
      " 162 - enfants\n",
      " 160 - chercheurs\n",
      " 159 - masque\n",
      "__label__sport\n",
      " 312 - football\n",
      " 300 - club\n",
      " 290 - tour\n",
      " 250 - joueurs\n",
      " 240 - ligue\n",
      " 231 - psg\n",
      " 226 - sport\n",
      " 211 - équipe\n",
      " 211 - saison\n",
      " 201 - match\n",
      "__label__culture\n",
      " 281 - film\n",
      " 252 - cinéma\n",
      " 248 - festival\n",
      " 239 - artistes\n",
      " 226 - musée\n",
      " 205 - roman\n",
      " 200 - art\n",
      " 199 - théâtre\n",
      " 198 - culture\n",
      " 176 - série\n",
      "__label__sciences\n",
      " 286 - pourquoi\n",
      " 208 - scientifiques\n",
      " 203 - nasa\n",
      " 172 - étude\n",
      " 162 - terre\n",
      " 154 - recherche\n",
      " 152 - science\n",
      " 148 - scientifique\n",
      " 147 - espèces\n",
      " 128 - mars\n"
     ]
    }
   ],
   "source": [
    "for label_idx in range(len(labels)):\n",
    "    print(labels[label_idx])\n",
    "    for i in range(10):\n",
    "        word_idx = indexes[label_idx][i]\n",
    "        print(\"%4d - %s\" %(similarity[label_idx][word_idx],words[word_idx]))"
   ]
  }
 ],
 "metadata": {
  "kernelspec": {
   "display_name": "Python 3",
   "language": "python",
   "name": "python3"
  },
  "language_info": {
   "codemirror_mode": {
    "name": "ipython",
    "version": 3
   },
   "file_extension": ".py",
   "mimetype": "text/x-python",
   "name": "python",
   "nbconvert_exporter": "python",
   "pygments_lexer": "ipython3",
   "version": "3.8.5"
  }
 },
 "nbformat": 4,
 "nbformat_minor": 4
}
