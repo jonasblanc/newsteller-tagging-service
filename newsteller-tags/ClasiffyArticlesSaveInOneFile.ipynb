{
 "cells": [
  {
   "cell_type": "code",
   "execution_count": 6,
   "metadata": {},
   "outputs": [],
   "source": [
    "#from utils import dump_dataset\n",
    "import fasttext\n",
    "import pandas as pd\n",
    "import nltk\n",
    "#nltk.download('stopwords') # Added (requested by system)\n",
    "from nltk.corpus import stopwords\n",
    "from nltk.tokenize import word_tokenize \n",
    "\n",
    "from sklearn.model_selection import train_test_split\n",
    "\n",
    "stop_words = stopwords.words('french')\n",
    "\n",
    "\n",
    "df = pd.read_parquet('data/nt_data_fr.gzip')\n",
    "toBeClassed = df"
   ]
  },
  {
   "cell_type": "code",
   "execution_count": 2,
   "metadata": {},
   "outputs": [],
   "source": [
    "def preprocess(sentence, max_words=64):\n",
    "    sentence = sentence.lower()\n",
    "    \n",
    "    tokenizer = nltk.RegexpTokenizer(r\"\\w+\")\n",
    "    word_tokens = tokenizer.tokenize(sentence)\n",
    "  \n",
    "    filtered_sentence = [w for w in word_tokens if not w in stop_words][:max_words]\n",
    "  \n",
    "    return \" \".join(filtered_sentence)"
   ]
  },
  {
   "cell_type": "code",
   "execution_count": 3,
   "metadata": {},
   "outputs": [],
   "source": [
    "def save_datafile(df, filename):\n",
    "    with open(filename, 'w') as f:\n",
    "        for each_text, each_label in zip(df['preproc'], df['category']):\n",
    "            f.writelines(f'__label__{each_label} {each_text}\\n')"
   ]
  },
  {
   "cell_type": "code",
   "execution_count": 4,
   "metadata": {},
   "outputs": [],
   "source": [
    "def save_categories_in_one_file(df, filename, num_articles):\n",
    "    with open(filename, 'w') as f:\n",
    "        f.write('{\"response\":{')\n",
    "        for each_category, index in zip(categories, range(len(categories))):\n",
    "            f.write('\"'+each_category + '\":{\"hits\":[')\n",
    "            label = \"__label__\" + each_category\n",
    "            specific_df = df[df['category'].isin([label])]\n",
    "            for each_row in range(min(num_articles, specific_df.shape[0])): \n",
    "                if(each_row == 0):\n",
    "                    f.writelines(f'{specific_df.iloc[each_row].to_json()}')\n",
    "                else:\n",
    "                    f.writelines(f',{specific_df.iloc[each_row].to_json()}')\n",
    "            if(index == len(categories)-1):\n",
    "                f.write(']}')\n",
    "            else:\n",
    "                f.write(']},')\n",
    "            \n",
    "        f.write('}}')"
   ]
  },
  {
   "cell_type": "code",
   "execution_count": 7,
   "metadata": {},
   "outputs": [
    {
     "name": "stderr",
     "output_type": "stream",
     "text": [
      "<ipython-input-7-aeaf2f6de0d0>:6: SettingWithCopyWarning: \n",
      "A value is trying to be set on a copy of a slice from a DataFrame.\n",
      "Try using .loc[row_indexer,col_indexer] = value instead\n",
      "\n",
      "See the caveats in the documentation: https://pandas.pydata.org/pandas-docs/stable/user_guide/indexing.html#returning-a-view-versus-a-copy\n",
      "  df['preproc'] = (df['title'] +  \" \" + df['text']).apply(preprocess)\n"
     ]
    }
   ],
   "source": [
    "categories = ['sciences','economie','sport','culture', 'sante', 'suisse', 'people', 'societe', 'insolite', 'politique', 'international', 'tech', 'faits-divers']\n",
    "\n",
    "df['category'] = df['url'].apply(lambda x :  x.split('/')[3])\n",
    "df = df[df['category'].isin(categories)]\n",
    "\n",
    "df['preproc'] = (df['title'] +  \" \" + df['text']).apply(preprocess)\n",
    "toBeClassed['preproc'] = (toBeClassed['title'] +  \" \" + toBeClassed['text']).apply(preprocess)\n",
    "\n",
    "train, test = train_test_split(df, test_size=0.2)\n",
    "\n",
    "save_datafile(train, 'data/fasttext.train')\n",
    "save_datafile(test, 'data/fasttext.valid')\n",
    "\n",
    "model = fasttext.train_supervised(input=\"data/fasttext.train\", lr=1.0,epoch=50, dim=100)\n",
    "model.test(\"data/fasttext.valid\")\n",
    "\n",
    "toBeClassed['category'] = toBeClassed['preproc'].apply(lambda preproc :  model.predict(preproc, k =1)[0][0])\n",
    "\n",
    "save_categories_in_one_file(toBeClassed, \"output/categories2.json\", 10)"
   ]
  }
 ],
 "metadata": {
  "kernelspec": {
   "display_name": "Python 3",
   "language": "python",
   "name": "python3"
  },
  "language_info": {
   "codemirror_mode": {
    "name": "ipython",
    "version": 3
   },
   "file_extension": ".py",
   "mimetype": "text/x-python",
   "name": "python",
   "nbconvert_exporter": "python",
   "pygments_lexer": "ipython3",
   "version": "3.8.5"
  }
 },
 "nbformat": 4,
 "nbformat_minor": 4
}
