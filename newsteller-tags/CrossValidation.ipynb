{
 "cells": [
  {
   "cell_type": "code",
   "execution_count": 47,
   "metadata": {},
   "outputs": [],
   "source": [
    "#from utils import dump_dataset\n",
    "import fasttext\n",
    "import pandas as pd\n",
    "import nltk\n",
    "#nltk.download('stopwords') # Added (requested by system)\n",
    "from nltk.corpus import stopwords\n",
    "from nltk.tokenize import word_tokenize \n",
    "import matplotlib.pyplot as plt\n",
    "\n",
    "from sklearn.model_selection import train_test_split\n",
    "from mpl_toolkits.axes_grid1 import make_axes_locatable\n",
    "\n",
    "import numpy as np\n",
    "\n",
    "stop_words = stopwords.words('french')"
   ]
  },
  {
   "cell_type": "code",
   "execution_count": 48,
   "metadata": {},
   "outputs": [],
   "source": [
    "def preprocess(sentence, max_words=20000):\n",
    "    sentence = sentence.lower()\n",
    "    \n",
    "    tokenizer = nltk.RegexpTokenizer(r\"\\w+\")\n",
    "    word_tokens = tokenizer.tokenize(sentence)\n",
    "  \n",
    "    filtered_sentence = [w for w in word_tokens if not w in stop_words][:max_words]\n",
    "  \n",
    "    return \" \".join(filtered_sentence)"
   ]
  },
  {
   "cell_type": "code",
   "execution_count": 49,
   "metadata": {},
   "outputs": [],
   "source": [
    "def save_datafile(df, filename):\n",
    "    with open(filename, 'w') as f:\n",
    "        for each_text, each_label in zip(df['preproc'], df['category']):\n",
    "            f.writelines(f'__label__{each_label} {each_text}\\n')"
   ]
  },
  {
   "cell_type": "code",
   "execution_count": 50,
   "metadata": {},
   "outputs": [],
   "source": [
    "def save_result(best_dim, best_epoch, best_lr, results_tests, value_max ,dims, epochs, lrs, filename):\n",
    "    with open(filename, 'w') as f:\n",
    "            f.writelines(f'dim: {best_dim} from:{dims}\\nepoch:{best_epoch} from:{epochs}\\nlr:{best_lr} from:{lrs}\\nRate validation: {value_max}\\nRate test: {results_tests}')"
   ]
  },
  {
   "cell_type": "code",
   "execution_count": 51,
   "metadata": {},
   "outputs": [],
   "source": [
    "categories = ['sciences','economie','sport','culture', 'sante']\n",
    "\n",
    "df = pd.read_parquet('data/nt_data_fr.gzip')\n",
    "df['category'] = df['url'].apply(lambda x :  x.split('/')[3])\n",
    "df = df[df['category'].isin(categories)]"
   ]
  },
  {
   "cell_type": "code",
   "execution_count": 52,
   "metadata": {},
   "outputs": [],
   "source": [
    "df['preproc'] = (df['title'] +  \" \" + df['text']).apply(preprocess)\n",
    "#df['preproc'] = (df['text']).apply(preprocess)"
   ]
  },
  {
   "cell_type": "markdown",
   "metadata": {},
   "source": [
    "## Basic stats concerning data samples"
   ]
  },
  {
   "cell_type": "code",
   "execution_count": 7,
   "metadata": {},
   "outputs": [
    {
     "name": "stdout",
     "output_type": "stream",
     "text": [
      "Average length of articles: 1816.1307022809124\n"
     ]
    }
   ],
   "source": [
    "print(f\"Average length of articles: {df['preproc'].apply(len).mean()}\")"
   ]
  },
  {
   "cell_type": "code",
   "execution_count": 53,
   "metadata": {},
   "outputs": [],
   "source": [
    "training, test = train_test_split(df, test_size=0.2)\n",
    "train, validation = train_test_split(training, test_size=0.2)\n",
    "save_datafile(train, 'data/fasttext.train')\n",
    "save_datafile(validation, 'data/fasttext.valid')\n",
    "save_datafile(test, 'data/fasttext.test')"
   ]
  },
  {
   "cell_type": "code",
   "execution_count": 54,
   "metadata": {},
   "outputs": [
    {
     "name": "stdout",
     "output_type": "stream",
     "text": [
      "All samples:\n",
      "Total: 13328\n",
      "sciences - 1152\n",
      "economie - 5691\n",
      "sport - 1694\n",
      "culture - 1661\n",
      "sante - 3130\n",
      "\n",
      "Training set:\n",
      "Total: 8529\n",
      "sciences - 776\n",
      "economie - 3615\n",
      "sport - 1074\n",
      "culture - 1105\n",
      "sante - 1959\n",
      "\n",
      "Validation set:\n",
      "Total: 2133\n",
      "sciences - 159\n",
      "economie - 910\n",
      "sport - 290\n",
      "culture - 262\n",
      "sante - 512\n",
      "\n",
      "Test set:\n",
      "Total: 2666\n",
      "sciences - 217\n",
      "economie - 1166\n",
      "sport - 330\n",
      "culture - 294\n",
      "sante - 659\n"
     ]
    }
   ],
   "source": [
    "print(\"All samples:\")\n",
    "print(f\"Total: {df.shape[0]}\")\n",
    "for each_category in categories:\n",
    "    print(f\"{each_category} - {df[df['category'].isin([each_category])].shape[0]}\")\n",
    "    \n",
    "print()\n",
    "print(\"Training set:\")\n",
    "print(f\"Total: {train.shape[0]}\")\n",
    "for each_category in categories:\n",
    "    print(f\"{each_category} - {train[train['category'].isin([each_category])].shape[0]}\")\n",
    "   \n",
    "\n",
    "    \n",
    "print()\n",
    "print(\"Validation set:\")  \n",
    "print(f\"Total: {validation.shape[0]}\")\n",
    "for each_category in categories:\n",
    "    print(f\"{each_category} - {validation[validation['category'].isin([each_category])].shape[0]}\")\n",
    "   \n",
    "    \n",
    "print() \n",
    "print(\"Test set:\")\n",
    "print(f\"Total: {test.shape[0]}\")\n",
    "for each_category in categories:\n",
    "    print(f\"{each_category} - {test[test['category'].isin([each_category])].shape[0]}\")"
   ]
  },
  {
   "cell_type": "markdown",
   "metadata": {},
   "source": [
    "## Cross validation to find best dim / epoch / lr"
   ]
  },
  {
   "cell_type": "code",
   "execution_count": 17,
   "metadata": {},
   "outputs": [
    {
     "name": "stdout",
     "output_type": "stream",
     "text": [
      "(5, 4, 10)\n",
      "[0.1 0.2 0.3 0.4 0.5 0.6 0.7 0.8 0.9 1. ]\n",
      "[ 5 10 15 20]\n",
      "[ 80  90 100 110 120]\n"
     ]
    }
   ],
   "source": [
    "version = 6\n",
    "\n",
    "dims = np.arange(80, 130, 10)\n",
    "epochs = np.arange(5, 25, 5)\n",
    "lrs = np.arange(0.1,1.1, 0.1)\n",
    "\n",
    "dims_length = dims.shape[0]\n",
    "epochs_length = epochs.shape[0]\n",
    "lrs_length = lrs.shape[0]\n",
    "\n",
    "lrs_index = np.arange(0,lrs_length, 1)\n",
    "epochs_index = np.arange(0,epochs_length, 1)\n",
    "dims_index = np.arange(0,dims_length, 1)\n",
    "\n",
    "print((dims_length, epochs_length, lrs_length))\n",
    "print(lrs)\n",
    "print(epochs)\n",
    "print(dims)"
   ]
  },
  {
   "cell_type": "code",
   "execution_count": 18,
   "metadata": {},
   "outputs": [
    {
     "name": "stdout",
     "output_type": "stream",
     "text": [
      "(0.16666666666666666, 10.0, 600)\n"
     ]
    }
   ],
   "source": [
    "sec = dims_length * epochs_length * lrs_length* 3\n",
    "mins = sec / 60 \n",
    "hour = mins / 60\n",
    "print((hour, mins, sec))"
   ]
  },
  {
   "cell_type": "code",
   "execution_count": 19,
   "metadata": {},
   "outputs": [],
   "source": [
    "scores = np.zeros((dims_length, epochs_length, lrs_length))\n",
    "\n",
    "f = (lambda lr, epoch, dim : fasttext.train_supervised(input=\"data/fasttext.train\",lr=lr,epoch=epoch , dim=dim).test(\"data/fasttext.valid\"))\n",
    "\n",
    "for each_lr, each_lr_index in zip(lrs, lrs_index):\n",
    "    for each_epoch, each_epoch_index in zip(epochs, epochs_index):\n",
    "        for each_dim, each_dim_index in zip(dims, dims_index):\n",
    "            result = f(each_lr, each_epoch, each_dim)\n",
    "            scores[each_dim_index][each_epoch_index][each_lr_index] = result[1]"
   ]
  },
  {
   "cell_type": "code",
   "execution_count": 20,
   "metadata": {},
   "outputs": [],
   "source": [
    "np.save(f\"scores/v{version}.npy\", scores)"
   ]
  },
  {
   "cell_type": "code",
   "execution_count": 21,
   "metadata": {},
   "outputs": [],
   "source": [
    "results = np.load(f\"scores/v{version}.npy\")\n",
    "\n",
    "value_max  = np.max(results)\n",
    "index_max = np.where(results == value_max)\n",
    "\n",
    "best_dim = dims[index_max[0]]\n",
    "best_epoch = epochs[index_max[1]]\n",
    "best_lr = lrs[index_max[2]]\n",
    "\n",
    "best_model = fasttext.train_supervised(input=\"data/fasttext.train\", lr=best_lr,epoch=best_epoch, dim=best_dim)\n",
    "results_tests = best_model.test(\"data/fasttext.test\")\n",
    "\n",
    "\n",
    "\n",
    "\n",
    "\n",
    "save_result(best_dim, best_epoch, best_lr, results_tests, value_max, dims, epochs, lrs,f\"scores/v{version}.txt\")"
   ]
  },
  {
   "cell_type": "code",
   "execution_count": null,
   "metadata": {},
   "outputs": [],
   "source": [
    "#https://fasttext.cc/docs/en/autotune.html\n",
    "model = fasttext.train_supervised(input=\"data/fasttext.train\", autotuneValidationFile='data/fasttext.valid')\n",
    "model.test(\"data/fasttext.test\")"
   ]
  },
  {
   "cell_type": "markdown",
   "metadata": {},
   "source": [
    "## Compare model with pretrainedVector and without pretrainedVector\n",
    "Please download first cc.fr.300.vec here: https://fasttext.cc/docs/en/crawl-vectors.html"
   ]
  },
  {
   "cell_type": "code",
   "execution_count": 10,
   "metadata": {},
   "outputs": [
    {
     "name": "stdout",
     "output_type": "stream",
     "text": [
      "Without pre train:\n",
      "Global:\n",
      "(2666, 0.9276069017254314, 0.9276069017254314)\n",
      "\n",
      "sciences\n",
      "(208, 0.6778846153846154, 0.6778846153846154)\n",
      "economie\n",
      "(1171, 0.9607173356105893, 0.9607173356105893)\n",
      "sport\n",
      "(321, 0.9750778816199377, 0.9750778816199377)\n",
      "culture\n",
      "(334, 0.9041916167664671, 0.9041916167664671)\n",
      "sante\n",
      "(632, 0.9367088607594937, 0.9367088607594937)\n",
      "\n",
      "With pre train:\n",
      "Global:\n",
      "(2666, 0.9343585896474118, 0.9343585896474118)\n",
      "\n",
      "sciences\n",
      "(208, 0.7163461538461539, 0.7163461538461539)\n",
      "economie\n",
      "(1171, 0.9564474807856533, 0.9564474807856533)\n",
      "sport\n",
      "(321, 0.9719626168224299, 0.9719626168224299)\n",
      "culture\n",
      "(334, 0.9221556886227545, 0.9221556886227545)\n",
      "sante\n",
      "(632, 0.9525316455696202, 0.9525316455696202)\n"
     ]
    }
   ],
   "source": [
    "best_model = fasttext.train_supervised(input=\"data/fasttext.train\", lr=0.6,epoch=5, dim=300)\n",
    "\n",
    "for each_category in categories:\n",
    "    save_datafile(test[test['category'].isin([each_category])], f'data/fasttext.{each_category}')\n",
    "\n",
    "print(\"Without pre train:\")\n",
    "print(\"Global:\")\n",
    "print(best_model.test('data/fasttext.test'))\n",
    "print()\n",
    "for each_category in categories:\n",
    "    print(each_category)\n",
    "    print(best_model.test(f'data/fasttext.{each_category}'))\n",
    "\n",
    "pre_model = fasttext.train_supervised(input=\"data/fasttext.train\", lr=0.6,epoch=5, dim=300, pretrainedVectors=\"cc.fr.300.vec\")\n",
    "print()\n",
    "print(\"With pre train:\")\n",
    "print(\"Global:\")\n",
    "print(pre_model.test('data/fasttext.test'))\n",
    "print()\n",
    "for each_category in categories:\n",
    "    print(each_category)\n",
    "    print(pre_model.test(f'data/fasttext.{each_category}'))    "
   ]
  },
  {
   "cell_type": "markdown",
   "metadata": {},
   "source": [
    "## Plotting Heatmap for dimension and text size"
   ]
  },
  {
   "cell_type": "code",
   "execution_count": 55,
   "metadata": {},
   "outputs": [
    {
     "name": "stdout",
     "output_type": "stream",
     "text": [
      "[ 50 100 150 200 250 300 350 400 450]\n",
      "[ 100  300  500  700  900 1100 1300 1500 1700 1900]\n",
      "(9, 10)\n"
     ]
    }
   ],
   "source": [
    "dims = np.arange(50, 500, 50)\n",
    "text_sizes = np.arange(100, 2000, 200)\n",
    "\n",
    "\n",
    "dims_length = dims.shape[0]\n",
    "text_sizes_length = text_sizes.shape[0]\n",
    "\n",
    "print(dims)\n",
    "print(text_sizes)\n",
    "print((dims_length, text_sizes_length))"
   ]
  },
  {
   "cell_type": "code",
   "execution_count": 56,
   "metadata": {},
   "outputs": [],
   "source": [
    "'''Plotting Heatmap for CV results'''\n",
    "def plot_cv_result(grid_val,grid_x,grid_y):\n",
    "    plt.figure(figsize=(8,10))\n",
    "    im = plt.imshow(grid_val)\n",
    "    \n",
    "    plt.xticks(np.arange(len(grid_x)), grid_x, rotation=20)\n",
    "    plt.yticks(np.arange(len(grid_y)), grid_y, rotation=20)\n",
    "    plt.ylabel('Dimension')\n",
    "    plt.xlabel('Text size')\n",
    "    plt.title('Val Accuracy for different dimension and text size')\n",
    "    ax = plt.gca()\n",
    "\n",
    "    divider = make_axes_locatable(ax)\n",
    "    cax = divider.append_axes(\"right\", size=\"5%\", pad=0.05)\n",
    "    plt.colorbar(im, cax=cax)\n",
    "\n",
    "\n",
    "    plt.show()\n",
    "\n"
   ]
  },
  {
   "cell_type": "code",
   "execution_count": null,
   "metadata": {},
   "outputs": [
    {
     "name": "stderr",
     "output_type": "stream",
     "text": [
      "<ipython-input-57-c722fb366c6a>:6: SettingWithCopyWarning: \n",
      "A value is trying to be set on a copy of a slice from a DataFrame.\n",
      "Try using .loc[row_indexer,col_indexer] = value instead\n",
      "\n",
      "See the caveats in the documentation: https://pandas.pydata.org/pandas-docs/stable/user_guide/indexing.html#returning-a-view-versus-a-copy\n",
      "  train['preproc'] = (train['title'] +  \" \" +train['text']).apply(lambda x :preprocess(x, each_size))\n",
      "<ipython-input-57-c722fb366c6a>:8: SettingWithCopyWarning: \n",
      "A value is trying to be set on a copy of a slice from a DataFrame.\n",
      "Try using .loc[row_indexer,col_indexer] = value instead\n",
      "\n",
      "See the caveats in the documentation: https://pandas.pydata.org/pandas-docs/stable/user_guide/indexing.html#returning-a-view-versus-a-copy\n",
      "  validation['preproc'] = (validation['title'] +  \" \" + validation['text']).apply(lambda x :preprocess(x, each_size))\n"
     ]
    }
   ],
   "source": [
    "heat_map_array = np.zeros((dims_length, text_sizes_length))\n",
    "\n",
    "\n",
    "f = (lambda dim : fasttext.train_supervised(input=\"data/fasttext.train\",lr=0.6,epoch=5 , dim=dim).test(\"data/fasttext.valid\"))\n",
    "for j, each_size in enumerate(text_sizes):\n",
    "    train['preproc'] = (train['title'] +  \" \" +train['text']).apply(lambda x :preprocess(x, each_size))\n",
    "    #train['preproc'] = ( train['text']).apply(lambda x :preprocess(x, each_size))\n",
    "    validation['preproc'] = (validation['title'] +  \" \" + validation['text']).apply(lambda x :preprocess(x, each_size))\n",
    "    #validation['preproc'] = (validation['text']).apply(lambda x :preprocess(x, each_size))\n",
    "    \n",
    "    save_datafile(train, 'data/fasttext.train')\n",
    "    save_datafile(validation, 'data/fasttext.valid')\n",
    "    \n",
    "    for i, each_dim in enumerate(dims):\n",
    "        result = f(each_dim)\n",
    "        heat_map_array[i][j] = result[1]"
   ]
  },
  {
   "cell_type": "code",
   "execution_count": null,
   "metadata": {},
   "outputs": [],
   "source": [
    "%%javascript\n",
    "IPython.OutputArea.auto_scroll_threshold = 9999;"
   ]
  },
  {
   "cell_type": "code",
   "execution_count": null,
   "metadata": {},
   "outputs": [],
   "source": [
    "def set_text_size(size):\n",
    "    \n",
    "    test['preproc'] = (test['title'] +  \" \" + test['text']).apply(lambda x :preprocess(x, size))\n",
    "    train['preproc'] = (train['title'] +  \" \" + train['text']).apply(lambda x :preprocess(x, size))\n",
    "    validation['preproc'] = (validation['title'] +  \" \" + validation['text']).apply(lambda x :preprocess(x, size))\n",
    "    \n",
    "    #test['preproc'] = (test['text']).apply(lambda x :preprocess(x, size))\n",
    "    #train['preproc'] = (train['text']).apply(lambda x :preprocess(x, size))\n",
    "    #validation['preproc'] = (validation['text']).apply(lambda x :preprocess(x, size))\n",
    "\n",
    "    save_datafile(train, 'data/fasttext.train')\n",
    "    save_datafile(validation, 'data/fasttext.valid')\n",
    "    save_datafile(test, 'data/fasttext.test')"
   ]
  },
  {
   "cell_type": "code",
   "execution_count": null,
   "metadata": {
    "scrolled": true
   },
   "outputs": [],
   "source": [
    "plot_cv_result(heat_map_array,text_sizes,dims)\n",
    "\n",
    "value_max  = np.max(heat_map_array)\n",
    "index_max = np.where(heat_map_array == value_max)\n",
    "\n",
    "best_size = text_sizes[index_max[1][0]]\n",
    "best_dim = dims[index_max[0][0]]\n",
    "\n",
    "set_text_size(best_size)\n",
    "\n",
    "test_model = fasttext.train_supervised(input=\"data/fasttext.train\",lr=0.6,epoch=5 , dim=best_dim)\n",
    "test_result = test_model.test(\"data/fasttext.test\") \n",
    "\n",
    "print(f\"Best dimension: {best_dim} from range {dims}\")\n",
    "print(f\"Best text_size: {best_size} from range {text_sizes}\")\n",
    "print(f\"Best validation accuracy: {value_max}\")\n",
    "print(f\"Test accuracy: {test_result}\")\n",
    "\n",
    "print()\n",
    "for each_category in categories:\n",
    "    save_datafile(test[test['category'].isin([each_category])], f'data/fasttext.{each_category}')\n",
    "    print(each_category)\n",
    "    print(test_model.test(f'data/fasttext.{each_category}'))"
   ]
  },
  {
   "cell_type": "markdown",
   "metadata": {},
   "source": [
    "## Ploting validation and test accuracy for different epoch"
   ]
  },
  {
   "cell_type": "code",
   "execution_count": 33,
   "metadata": {},
   "outputs": [
    {
     "name": "stdout",
     "output_type": "stream",
     "text": [
      "[ 1  2  3  4  5  6  7  8  9 10 11 12 13 14]\n"
     ]
    }
   ],
   "source": [
    "epochs = np.arange(1, 15, 1)\n",
    "\n",
    "epochs_length = len(epochs)\n",
    "print(epochs)"
   ]
  },
  {
   "cell_type": "code",
   "execution_count": 34,
   "metadata": {},
   "outputs": [],
   "source": [
    "result_validation = np.zeros((epochs_length))\n",
    "result_test = np.zeros((epochs_length))\n",
    "\n",
    "f = (lambda epoch : fasttext.train_supervised(input=\"data/fasttext.train\",lr=0.2,epoch=epoch, dim=100))\n",
    "\n",
    "for i, each_epoch in enumerate(epochs):\n",
    "        curr_model = f(each_epoch)\n",
    "        result_validation[i] = curr_model.test(\"data/fasttext.valid\")[1]\n",
    "        result_test[i] = curr_model.test(\"data/fasttext.test\")[1]"
   ]
  },
  {
   "cell_type": "code",
   "execution_count": 35,
   "metadata": {},
   "outputs": [
    {
     "data": {
      "image/png": "[encoded data removed]",
      "text/plain": [
       "<Figure size 432x288 with 1 Axes>"
      ]
     },
     "metadata": {
      "needs_background": "light"
     },
     "output_type": "display_data"
    },
    {
     "name": "stdout",
     "output_type": "stream",
     "text": [
      "0.08664666166541636\n",
      "Best validation epoch: [14] giving: 0.9259259259259259\n",
      "Best test epoch: [14] giving: 0.9384846211552889\n"
     ]
    }
   ],
   "source": [
    "plt.plot(epochs, result_validation, 'b')\n",
    "plt.plot(epochs, result_test, 'r')\n",
    "\n",
    "# Decorate\n",
    "plt.xlabel('epochs')\n",
    "plt.ylabel('accuracy')\n",
    "\n",
    "plt.title('Validation (blue) and result (red) accuracy')\n",
    "plt.show()\n",
    "\n",
    "value_max_v  = np.max(result_validation)\n",
    "index_max_v = np.where(result_validation == value_max_v)\n",
    "\n",
    "value_max_t  = np.max(result_test)\n",
    "index_max_t = np.where(result_test == value_max_t)\n",
    "\n",
    "print(fasttext.train_supervised(input=\"data/fasttext.test\",lr=0.6 ,epoch=0, dim=200).test(\"data/fasttext.test\")[1])\n",
    "\n",
    "print(f\"Best validation epoch: {epochs[index_max_v[0]]} giving: {value_max_v}\")\n",
    "print(f\"Best test epoch: {epochs[index_max_t[0]]} giving: {value_max_t}\")"
   ]
  },
  {
   "cell_type": "markdown",
   "metadata": {},
   "source": [
    "## Other tests and trials"
   ]
  },
  {
   "cell_type": "code",
   "execution_count": 101,
   "metadata": {},
   "outputs": [
    {
     "data": {
      "image/png": "[encoded data removed]",
      "text/plain": [
       "<Figure size 432x288 with 1 Axes>"
      ]
     },
     "metadata": {
      "needs_background": "light"
     },
     "output_type": "display_data"
    }
   ],
   "source": [
    "#save_dataComputed(result, tab, \"output/mesure.dim\")\n",
    "#plt.plot(tab, result)\n",
    "fig = plt.figure()\n",
    "ax = fig.add_axes([0,0,1,1])\n",
    "ax.bar(tab,result)\n",
    "ax.set_ylim(0.90,0.92)\n",
    "plt.xlabel('Vector dim')\n",
    "plt.ylabel('Test rate')\n",
    "plt.savefig('DimRate.png')\n",
    "plt.show()"
   ]
  },
  {
   "cell_type": "code",
   "execution_count": 95,
   "metadata": {},
   "outputs": [],
   "source": [
    "tab1 = list(range(1, 100, 5))\n",
    "f1 = (lambda x : fasttext.train_supervised(input=\"data/fasttext.train\", lr=1.0,epoch=50, dim=100).test(\"data/fasttext.valid\"))\n",
    "result1 = list(range(len(tab1)))\n",
    "\n",
    "for x, y in zip(tab1,result1):\n",
    "    result[y] = f(x)[1]\n",
    "    \n",
    "\n"
   ]
  },
  {
   "cell_type": "code",
   "execution_count": 98,
   "metadata": {},
   "outputs": [
    {
     "ename": "NameError",
     "evalue": "name 'tab1' is not defined",
     "output_type": "error",
     "traceback": [
      "\u001b[0;31m---------------------------------------------------------------------------\u001b[0m",
      "\u001b[0;31mNameError\u001b[0m                                 Traceback (most recent call last)",
      "\u001b[0;32m<ipython-input-98-ba75dc902868>\u001b[0m in \u001b[0;36m<module>\u001b[0;34m\u001b[0m\n\u001b[1;32m      3\u001b[0m \u001b[0mfig\u001b[0m \u001b[0;34m=\u001b[0m \u001b[0mplt\u001b[0m\u001b[0;34m.\u001b[0m\u001b[0mfigure\u001b[0m\u001b[0;34m(\u001b[0m\u001b[0;34m)\u001b[0m\u001b[0;34m\u001b[0m\u001b[0;34m\u001b[0m\u001b[0m\n\u001b[1;32m      4\u001b[0m \u001b[0max\u001b[0m \u001b[0;34m=\u001b[0m \u001b[0mfig\u001b[0m\u001b[0;34m.\u001b[0m\u001b[0madd_axes\u001b[0m\u001b[0;34m(\u001b[0m\u001b[0;34m[\u001b[0m\u001b[0;36m0\u001b[0m\u001b[0;34m,\u001b[0m\u001b[0;36m0\u001b[0m\u001b[0;34m,\u001b[0m\u001b[0;36m1\u001b[0m\u001b[0;34m,\u001b[0m\u001b[0;36m1\u001b[0m\u001b[0;34m]\u001b[0m\u001b[0;34m)\u001b[0m\u001b[0;34m\u001b[0m\u001b[0;34m\u001b[0m\u001b[0m\n\u001b[0;32m----> 5\u001b[0;31m \u001b[0max\u001b[0m\u001b[0;34m.\u001b[0m\u001b[0mbar\u001b[0m\u001b[0;34m(\u001b[0m\u001b[0mtab1\u001b[0m\u001b[0;34m,\u001b[0m\u001b[0mresult1\u001b[0m\u001b[0;34m)\u001b[0m\u001b[0;34m\u001b[0m\u001b[0;34m\u001b[0m\u001b[0m\n\u001b[0m\u001b[1;32m      6\u001b[0m \u001b[0max\u001b[0m\u001b[0;34m.\u001b[0m\u001b[0mset_ylim\u001b[0m\u001b[0;34m(\u001b[0m\u001b[0;36m0.90\u001b[0m\u001b[0;34m,\u001b[0m\u001b[0;36m0.92\u001b[0m\u001b[0;34m)\u001b[0m\u001b[0;34m\u001b[0m\u001b[0;34m\u001b[0m\u001b[0m\n\u001b[1;32m      7\u001b[0m \u001b[0mplt\u001b[0m\u001b[0;34m.\u001b[0m\u001b[0mxlabel\u001b[0m\u001b[0;34m(\u001b[0m\u001b[0;34m'Vector dim'\u001b[0m\u001b[0;34m)\u001b[0m\u001b[0;34m\u001b[0m\u001b[0;34m\u001b[0m\u001b[0m\n",
      "\u001b[0;31mNameError\u001b[0m: name 'tab1' is not defined"
     ]
    },
    {
     "data": {
      "image/png": "[encoded data removed]",
      "text/plain": [
       "<Figure size 432x288 with 1 Axes>"
      ]
     },
     "metadata": {
      "needs_background": "light"
     },
     "output_type": "display_data"
    }
   ],
   "source": [
    "#save_dataComputed(result, tab, \"output/mesure.dim\")\n",
    "#plt.plot(tab, result)\n",
    "fig = plt.figure()\n",
    "ax = fig.add_axes([0,0,1,1])\n",
    "ax.bar(tab1,result1)\n",
    "ax.set_ylim(0.90,0.92)\n",
    "plt.xlabel('Vector dim')\n",
    "plt.ylabel('Test rate')\n",
    "plt.savefig('epochRate.png')\n",
    "plt.show()"
   ]
  },
  {
   "cell_type": "code",
   "execution_count": 45,
   "metadata": {},
   "outputs": [],
   "source": [
    "def save_dataComputed(c_list,tab, filename):\n",
    "    with open(filename, 'w') as f:\n",
    "        for each_c, each_d in zip(c_list,tab):\n",
    "            f.writelines(f'{each_d}:{each_c}\\n')"
   ]
  },
  {
   "cell_type": "code",
   "execution_count": null,
   "metadata": {},
   "outputs": [],
   "source": [
    "#np.zeros\n",
    "#for dim, index in zip(tab, range(len(tab))):\n",
    "#model = fasttext.train_supervised(input=\"data/fasttext.train\", lr=1.0,epoch=50, dim=dim)\n",
    "#result[index] = 0"
   ]
  }
 ],
 "metadata": {
  "kernelspec": {
   "display_name": "Python 3",
   "language": "python",
   "name": "python3"
  },
  "language_info": {
   "codemirror_mode": {
    "name": "ipython",
    "version": 3
   },
   "file_extension": ".py",
   "mimetype": "text/x-python",
   "name": "python",
   "nbconvert_exporter": "python",
   "pygments_lexer": "ipython3",
   "version": "3.8.5"
  }
 },
 "nbformat": 4,
 "nbformat_minor": 4
}
