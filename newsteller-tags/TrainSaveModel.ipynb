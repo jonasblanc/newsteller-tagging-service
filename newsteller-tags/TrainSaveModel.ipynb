{
 "cells": [
  {
   "cell_type": "code",
   "execution_count": 2,
   "metadata": {},
   "outputs": [],
   "source": [
    "#from utils import dump_dataset\n",
    "import fasttext\n",
    "import pandas as pd\n",
    "import nltk\n",
    "#nltk.download('stopwords') # Added (requested by system)\n",
    "from nltk.corpus import stopwords\n",
    "from nltk.tokenize import word_tokenize \n",
    "\n",
    "from sklearn.model_selection import train_test_split\n",
    "\n",
    "stop_words = stopwords.words('french')\n",
    "\n",
    "\n",
    "df = pd.read_parquet('data/nt_data_fr.gzip')"
   ]
  },
  {
   "cell_type": "code",
   "execution_count": 3,
   "metadata": {},
   "outputs": [],
   "source": [
    "MAX_WORDS_PER_ARTICLE = 1100\n",
    "LR = 0.6\n",
    "EPOCH = 5\n",
    "DIM = 100\n",
    "categories = ['sciences','economie','sport','culture', 'sante']\n",
    "#categories = ['sciences','economie','sport','culture', 'sante', 'suisse', 'people', 'societe', 'insolite', 'politique', 'international', 'tech', 'faits-divers']"
   ]
  },
  {
   "cell_type": "code",
   "execution_count": 4,
   "metadata": {},
   "outputs": [],
   "source": [
    "def preprocess(sentence, max_words=MAX_WORDS_PER_ARTICLE):\n",
    "    sentence = sentence.lower()\n",
    "    \n",
    "    tokenizer = nltk.RegexpTokenizer(r\"\\w+\")\n",
    "    word_tokens = tokenizer.tokenize(sentence)\n",
    "  \n",
    "    filtered_sentence = [w for w in word_tokens if not w in stop_words][:max_words]\n",
    "  \n",
    "    return \" \".join(filtered_sentence)"
   ]
  },
  {
   "cell_type": "code",
   "execution_count": 5,
   "metadata": {},
   "outputs": [],
   "source": [
    "def save_datafile(df, filename):\n",
    "    with open(filename, 'w') as f:\n",
    "        for each_text, each_label in zip(df['preproc'], df['category']):\n",
    "            f.writelines(f'__label__{each_label} {each_text}\\n')"
   ]
  },
  {
   "cell_type": "code",
   "execution_count": 6,
   "metadata": {},
   "outputs": [],
   "source": [
    "df['category'] = df['url'].apply(lambda x :  x.split('/')[3])\n",
    "df = df[df['category'].isin(categories)]\n",
    "\n",
    "df['preproc'] = (df['title'] +  \" \" + df['text']).apply(preprocess)\n",
    "\n",
    "train, test = train_test_split(df, test_size=0.2)\n",
    "\n",
    "save_datafile(train, 'data/fasttext.train')\n",
    "save_datafile(test, 'data/fasttext.valid')\n",
    "\n",
    "model = fasttext.train_supervised(input=\"data/fasttext.train\", lr=LR,epoch=EPOCH, dim=DIM)\n",
    "model.test(\"data/fasttext.valid\")\n",
    "\n",
    "model.save_model(\"model/categories.ftz\")"
   ]
  }
 ],
 "metadata": {
  "kernelspec": {
   "display_name": "Python 3",
   "language": "python",
   "name": "python3"
  },
  "language_info": {
   "codemirror_mode": {
    "name": "ipython",
    "version": 3
   },
   "file_extension": ".py",
   "mimetype": "text/x-python",
   "name": "python",
   "nbconvert_exporter": "python",
   "pygments_lexer": "ipython3",
   "version": "3.8.5"
  }
 },
 "nbformat": 4,
 "nbformat_minor": 4
}
